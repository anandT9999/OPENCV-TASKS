{
  "nbformat": 4,
  "nbformat_minor": 0,
  "metadata": {
    "colab": {
      "provenance": [],
      "collapsed_sections": [],
      "mount_file_id": "1ThKQ14nEWHlDTdk0lettdm7lpofPv8DG",
      "authorship_tag": "ABX9TyM5CYP97S+LEdFzRHuGmFzV",
      "include_colab_link": true
    },
    "kernelspec": {
      "name": "python3",
      "display_name": "Python 3"
    },
    "language_info": {
      "name": "python"
    }
  },
  "cells": [
    {
      "cell_type": "markdown",
      "metadata": {
        "id": "view-in-github",
        "colab_type": "text"
      },
      "source": [
        "<a href=\"https://colab.research.google.com/github/anandT9999/OPENCV-TASKS/blob/main/ColorVariation.ipynb\" target=\"_parent\"><img src=\"https://colab.research.google.com/assets/colab-badge.svg\" alt=\"Open In Colab\"/></a>"
      ]
    },
    {
      "cell_type": "code",
      "execution_count": null,
      "metadata": {
        "id": "xYVzyxLwZ3RA"
      },
      "outputs": [],
      "source": [
        "## importing all the necessary PyData modules \n",
        "\n",
        "import os \n",
        "import torch  \n",
        "import numpy as np \n",
        "import pandas as pd\n",
        "import matplotlib.pyplot as plt\n",
        "from PIL import Image\n",
        "\n",
        "import torchvision\n",
        "%matplotlib inline"
      ]
    },
    {
      "cell_type": "code",
      "source": [
        "import glob \n",
        "path2image = '/content/drive/MyDrive/Sample_Images'\n",
        "filepath = glob.glob(path2image + '/*jpg')\n",
        "filepath"
      ],
      "metadata": {
        "colab": {
          "base_uri": "https://localhost:8080/"
        },
        "id": "5H6w1dfw68G8",
        "outputId": "6afc05fa-5d63-4b28-c88a-000d451f6e33"
      },
      "execution_count": null,
      "outputs": [
        {
          "output_type": "execute_result",
          "data": {
            "text/plain": [
              "['/content/drive/MyDrive/Sample_Images/Michele.Richard@aecom.com--DAGS_SL3000-048-9991_MH5333520113_20180507_0958_991.0--15-08-2022.jpg',\n",
              " '/content/drive/MyDrive/Sample_Images/Michele.Richard@aecom.com--DAGS_SL3000-049-0351_MH5315620257_20180306_0708_190.0--15-08-2022.jpg',\n",
              " '/content/drive/MyDrive/Sample_Images/Michele.Richard@aecom.com--DAGS_SL3000-049-0351_MH5315620257_20180306_0708_2326.0--15-08-2022.jpg',\n",
              " '/content/drive/MyDrive/Sample_Images/Michele.Richard@aecom.com--DAGS_SL3000-049-0351_MH5315620257_20180306_0708_196.0--15-08-2022.jpg',\n",
              " '/content/drive/MyDrive/Sample_Images/Michele.Richard@aecom.com--DAGS_SL3000-049-1161_MH5291120336_20180306_1302_108.0--15-08-2022.jpg',\n",
              " '/content/drive/MyDrive/Sample_Images/Michele.Richard@aecom.com--RFJ_SL1416935_MH3754622231_20161130_0626_68.0--18-08-2022.jpg',\n",
              " '/content/drive/MyDrive/Sample_Images/Michele.Richard@aecom.com--DAGS_SL3000-039-4591_MH4669019518_20191001_0111_381.0--15-08-2022.jpg',\n",
              " '/content/drive/MyDrive/Sample_Images/Michele.Richard@aecom.com--DAGS_SL3000-039-4591_MH4669019518_20191001_0111_476.0--15-08-2022.jpg',\n",
              " '/content/drive/MyDrive/Sample_Images/Michele.Richard@aecom.com--DAGS_SL3000-049-0351_MH5315620257_20180306_0708_2323.0--15-08-2022.jpg']"
            ]
          },
          "metadata": {},
          "execution_count": 4
        }
      ]
    },
    {
      "cell_type": "code",
      "source": [
        "dest_path = '/content/drive/MyDrive/Augmented_Images'\n",
        "for imagefile in filepath:\n",
        "  img = Image.open(imagefile)\n",
        "  image_name = imagefile.split('/')[-1]\n",
        "  image_file_name = image_name.rstrip('.jpg')\n",
        "\n",
        "## Grayscle variation\n",
        "  gray = torchvision.transforms.Grayscale(num_output_channels=1)\n",
        "  imge = gray(img)\n",
        "  imge.save(dest_path+'/'+ image_file_name +'_grey' +'.jpg')\n",
        "\n",
        "## Hue Variation\n",
        "  color_jitter = torchvision.transforms.ColorJitter(hue= 0.4)\n",
        "  imge = color_jitter(img)\n",
        "  imge.save(dest_path+'/'+ image_file_name +'_Hue' +'.jpg')\n",
        "\n",
        "## contrast variation\n",
        "  color_jitter = torchvision.transforms.ColorJitter(contrast=6)\n",
        "  imge = color_jitter(img)\n",
        "  imge.save(dest_path+'/'+ image_file_name +'_Contrast' +'.jpg')\n",
        "\n",
        "## Saturation Variation\n",
        "  color_jitter = torchvision.transforms.ColorJitter(saturation=5)\n",
        "  imge = color_jitter(img)\n",
        "  imge.save(dest_path+'/'+ image_file_name +'_Saturation' +'.jpg')\n",
        "\n",
        "## Brightness variation\n",
        "  color_jitter = torchvision.transforms.ColorJitter(brightness=8)\n",
        "  imge = color_jitter(img)\n",
        "  imge.save(dest_path+'/'+ image_file_name +'_Brightness' +'.jpg')"
      ],
      "metadata": {
        "id": "8-MFNY2m81OG"
      },
      "execution_count": null,
      "outputs": []
    }
  ]
}
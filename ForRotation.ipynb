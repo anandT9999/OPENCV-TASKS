{
  "cells": [
    {
      "cell_type": "markdown",
      "metadata": {
        "id": "view-in-github",
        "colab_type": "text"
      },
      "source": [
        "<a href=\"https://colab.research.google.com/github/anandT9999/OPENCV-TASKS/blob/main/ForRotation.ipynb\" target=\"_parent\"><img src=\"https://colab.research.google.com/assets/colab-badge.svg\" alt=\"Open In Colab\"/></a>"
      ]
    },
    {
      "cell_type": "code",
      "execution_count": null,
      "metadata": {
        "colab": {
          "base_uri": "https://localhost:8080/"
        },
        "id": "fr0hs67V7kM6",
        "outputId": "08c4813b-6d27-49f1-9177-8edb6335acd9"
      },
      "outputs": [
        {
          "name": "stdout",
          "output_type": "stream",
          "text": [
            "Drive already mounted at /content/drive; to attempt to forcibly remount, call drive.mount(\"/content/drive\", force_remount=True).\n"
          ]
        }
      ],
      "source": [
        "from google.colab import drive\n",
        "drive.mount('/content/drive')"
      ]
    },
    {
      "cell_type": "code",
      "execution_count": null,
      "metadata": {
        "colab": {
          "base_uri": "https://localhost:8080/"
        },
        "id": "AjebXMSP9ZTc",
        "outputId": "5acd83a7-fc17-4e6f-8d60-81cbb641923d"
      },
      "outputs": [
        {
          "name": "stdout",
          "output_type": "stream",
          "text": [
            "['/content/drive/MyDrive/Sample_Images/Michele.Richard@aecom.com--RFJ_SL1416935_MH3754622231_20161130_0626_68.0--18-08-2022.jpg', '/content/drive/MyDrive/Sample_Images/Michele.Richard@aecom.com--DAGS_SL3000-039-4591_MH4669019518_20191001_0111_381.0--15-08-2022.jpg', '/content/drive/MyDrive/Sample_Images/Michele.Richard@aecom.com--DAGS_SL3000-039-4591_MH4669019518_20191001_0111_476.0--15-08-2022.jpg', '/content/drive/MyDrive/Sample_Images/Michele.Richard@aecom.com--DAGS_SL3000-049-0351_MH5315620257_20180306_0708_2323.0--15-08-2022.jpg', '/content/drive/MyDrive/Sample_Images/Michele.Richard@aecom.com--DAGS_SL3000-049-0351_MH5315620257_20180306_0708_2326.0--15-08-2022.jpg', '/content/drive/MyDrive/Sample_Images/Michele.Richard@aecom.com--DAGS_SL3000-049-1161_MH5291120336_20180306_1302_108.0--15-08-2022.jpg', '/content/drive/MyDrive/Sample_Images/Michele.Richard@aecom.com--DAGS_SL3000-049-0351_MH5315620257_20180306_0708_196.0--15-08-2022.jpg', '/content/drive/MyDrive/Sample_Images/Michele.Richard@aecom.com--DAGS_SL3000-048-9991_MH5333520113_20180507_0958_991.0--15-08-2022.jpg', '/content/drive/MyDrive/Sample_Images/Michele.Richard@aecom.com--DAGS_SL3000-049-0351_MH5315620257_20180306_0708_190.0--15-08-2022.jpg']\n"
          ]
        }
      ],
      "source": [
        "Image_path = '/content/drive/MyDrive/Sample_Images'\n",
        "\n",
        "import glob\n",
        "\n",
        "Image_files = glob.glob(Image_path+'/*jpg')\n",
        "print(Image_files)"
      ]
    },
    {
      "cell_type": "code",
      "execution_count": null,
      "metadata": {
        "id": "IHwxHPlqOSE4"
      },
      "outputs": [],
      "source": [
        "## importing all the necessary PyData modules \n",
        "\n",
        "import os \n",
        "import torch  \n",
        "import numpy as np \n",
        "import pandas as pd\n",
        "import matplotlib.pyplot as plt\n",
        "from PIL import Image\n",
        "\n",
        "import torchvision\n",
        "%matplotlib inline"
      ]
    },
    {
      "cell_type": "code",
      "execution_count": null,
      "metadata": {
        "colab": {
          "base_uri": "https://localhost:8080/"
        },
        "id": "2MCc0pYRBdSt",
        "outputId": "963553bd-e8e5-49ed-d59e-fcb795596aa6"
      },
      "outputs": [
        {
          "data": {
            "text/plain": [
              "['/content/drive/MyDrive/Sample_Images/Michele.Richard@aecom.com--DAGS_SL3000-048-9991_MH5333520113_20180507_0958_991.0--15-08-2022.jpg',\n",
              " '/content/drive/MyDrive/Sample_Images/Michele.Richard@aecom.com--DAGS_SL3000-049-0351_MH5315620257_20180306_0708_190.0--15-08-2022.jpg',\n",
              " '/content/drive/MyDrive/Sample_Images/Michele.Richard@aecom.com--DAGS_SL3000-049-0351_MH5315620257_20180306_0708_2326.0--15-08-2022.jpg',\n",
              " '/content/drive/MyDrive/Sample_Images/Michele.Richard@aecom.com--DAGS_SL3000-049-0351_MH5315620257_20180306_0708_196.0--15-08-2022.jpg',\n",
              " '/content/drive/MyDrive/Sample_Images/Michele.Richard@aecom.com--DAGS_SL3000-049-1161_MH5291120336_20180306_1302_108.0--15-08-2022.jpg',\n",
              " '/content/drive/MyDrive/Sample_Images/Michele.Richard@aecom.com--RFJ_SL1416935_MH3754622231_20161130_0626_68.0--18-08-2022.jpg',\n",
              " '/content/drive/MyDrive/Sample_Images/Michele.Richard@aecom.com--DAGS_SL3000-039-4591_MH4669019518_20191001_0111_381.0--15-08-2022.jpg',\n",
              " '/content/drive/MyDrive/Sample_Images/Michele.Richard@aecom.com--DAGS_SL3000-039-4591_MH4669019518_20191001_0111_476.0--15-08-2022.jpg',\n",
              " '/content/drive/MyDrive/Sample_Images/Michele.Richard@aecom.com--DAGS_SL3000-049-0351_MH5315620257_20180306_0708_2323.0--15-08-2022.jpg']"
            ]
          },
          "execution_count": 2,
          "metadata": {},
          "output_type": "execute_result"
        }
      ],
      "source": [
        "import glob \n",
        "path2image = '/content/drive/MyDrive/Sample_Images'\n",
        "filepath = glob.glob(path2image + '/*jpg')\n",
        "filepath"
      ]
    },
    {
      "cell_type": "code",
      "execution_count": 46,
      "metadata": {
        "id": "VVvTCJAsMvLz"
      },
      "outputs": [],
      "source": [
        "from PIL import Image\n",
        "dest_path = '/content/drive/MyDrive/Augmented_Images'\n",
        "for imagefile in filepath:\n",
        "  img = Image.open(imagefile)\n",
        "  image_name = imagefile.split('/')[-1]\n",
        "  image_file_name = image_name.rstrip('.jpg')\n",
        "\n",
        "## 90 Degree\n",
        "  imge = img.transpose(Image.ROTATE_90)\n",
        "  imge.save(dest_path+'/'+ image_file_name +'_ninety' +'.jpg')\n",
        "  \n",
        "\n",
        "## 45 Degree\n",
        "  imge = img.transpose(Image.ROTATE_90)\n",
        "  imge.save(dest_path+'/'+ image_file_name +'_fortyFive' +'.jpg')\n"
      ]
    }
  ],
  "metadata": {
    "colab": {
      "collapsed_sections": [],
      "provenance": [],
      "mount_file_id": "1y2qBqliYQt0-BpMnBRmiJZFVZj2nrzTJ",
      "authorship_tag": "ABX9TyMLBw6kpDj0iA8JIBfzjFmR",
      "include_colab_link": true
    },
    "kernelspec": {
      "display_name": "Python 3",
      "name": "python3"
    },
    "language_info": {
      "name": "python"
    }
  },
  "nbformat": 4,
  "nbformat_minor": 0
}
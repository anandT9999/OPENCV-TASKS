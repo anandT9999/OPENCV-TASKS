{
  "nbformat": 4,
  "nbformat_minor": 0,
  "metadata": {
    "colab": {
      "provenance": [],
      "collapsed_sections": [],
      "mount_file_id": "1uP6TNbybU_pDkMWsGQjCKDSSl2tbPuzO",
      "authorship_tag": "ABX9TyMG5T0kQVxCuIrwY4Zvrb5N",
      "include_colab_link": true
    },
    "kernelspec": {
      "name": "python3",
      "display_name": "Python 3"
    },
    "language_info": {
      "name": "python"
    }
  },
  "cells": [
    {
      "cell_type": "markdown",
      "metadata": {
        "id": "view-in-github",
        "colab_type": "text"
      },
      "source": [
        "<a href=\"https://colab.research.google.com/github/anandT9999/OPENCV-TASKS/blob/main/Flipping.ipynb\" target=\"_parent\"><img src=\"https://colab.research.google.com/assets/colab-badge.svg\" alt=\"Open In Colab\"/></a>"
      ]
    },
    {
      "cell_type": "code",
      "execution_count": null,
      "metadata": {
        "id": "4UAXXSAuRSkT"
      },
      "outputs": [],
      "source": [
        "## importing all the necessary PyData modules \n",
        "import cv2\n",
        "import numpy as np\n",
        "from skimage import io \n",
        "from skimage.transform import rotate, AffineTransform, warp\n",
        "import matplotlib.pyplot as plt\n",
        "from PIL import Image\n",
        "import torchvision\n",
        "%matplotlib inline"
      ]
    },
    {
      "cell_type": "code",
      "source": [
        "## Mounting Google Drive in Google Colab\n",
        "from google.colab import drive\n",
        "drive.mount('/content/drive')"
      ],
      "metadata": {
        "colab": {
          "base_uri": "https://localhost:8080/"
        },
        "id": "my1WRWo8EipP",
        "outputId": "96d44cb3-ec7a-47e2-8bc9-a403879a6cdd"
      },
      "execution_count": null,
      "outputs": [
        {
          "output_type": "stream",
          "name": "stdout",
          "text": [
            "Drive already mounted at /content/drive; to attempt to forcibly remount, call drive.mount(\"/content/drive\", force_remount=True).\n"
          ]
        }
      ]
    },
    {
      "cell_type": "code",
      "source": [
        "import glob \n",
        "path2image = '/content/drive/MyDrive/Sample_Images'\n",
        "filepath = glob.glob(path2image + '/*jpg')\n",
        "filepath"
      ],
      "metadata": {
        "colab": {
          "base_uri": "https://localhost:8080/"
        },
        "id": "9VrM7VXhEuK8",
        "outputId": "a395c88e-7287-430b-fedb-3bc0ba0d9995"
      },
      "execution_count": null,
      "outputs": [
        {
          "output_type": "execute_result",
          "data": {
            "text/plain": [
              "['/content/drive/MyDrive/Sample_Images/Michele.Richard@aecom.com--DAGS_SL3000-048-9991_MH5333520113_20180507_0958_991.0--15-08-2022.jpg',\n",
              " '/content/drive/MyDrive/Sample_Images/Michele.Richard@aecom.com--DAGS_SL3000-049-0351_MH5315620257_20180306_0708_190.0--15-08-2022.jpg',\n",
              " '/content/drive/MyDrive/Sample_Images/Michele.Richard@aecom.com--DAGS_SL3000-049-0351_MH5315620257_20180306_0708_2326.0--15-08-2022.jpg',\n",
              " '/content/drive/MyDrive/Sample_Images/Michele.Richard@aecom.com--DAGS_SL3000-049-0351_MH5315620257_20180306_0708_196.0--15-08-2022.jpg',\n",
              " '/content/drive/MyDrive/Sample_Images/Michele.Richard@aecom.com--DAGS_SL3000-049-1161_MH5291120336_20180306_1302_108.0--15-08-2022.jpg',\n",
              " '/content/drive/MyDrive/Sample_Images/Michele.Richard@aecom.com--RFJ_SL1416935_MH3754622231_20161130_0626_68.0--18-08-2022.jpg',\n",
              " '/content/drive/MyDrive/Sample_Images/Michele.Richard@aecom.com--DAGS_SL3000-039-4591_MH4669019518_20191001_0111_381.0--15-08-2022.jpg',\n",
              " '/content/drive/MyDrive/Sample_Images/Michele.Richard@aecom.com--DAGS_SL3000-039-4591_MH4669019518_20191001_0111_476.0--15-08-2022.jpg',\n",
              " '/content/drive/MyDrive/Sample_Images/Michele.Richard@aecom.com--DAGS_SL3000-049-0351_MH5315620257_20180306_0708_2323.0--15-08-2022.jpg']"
            ]
          },
          "metadata": {},
          "execution_count": 33
        }
      ]
    },
    {
      "cell_type": "code",
      "source": [
        "## Set Destination path \n",
        "dest_path = '/content/drive/MyDrive/Augmented_Images'\n",
        "for imagefile in filepath:\n",
        "  img = Image.open(imagefile)\n",
        "  image_name = imagefile.split('/')[-1]\n",
        "  image_file_name = image_name.rstrip('.jpg')\n",
        "\n",
        "## Vertical Flipping\n",
        "  img = Image.open(imagefile)\n",
        "  imge = img.transpose(method=Image.FLIP_TOP_BOTTOM)\n",
        "  imge.save(dest_path+'/'+ image_file_name +'_Vertical' +'.jpg')\n",
        "\n",
        "## Horizontal Flipping\n",
        "  img = Image.open(imagefile)\n",
        "  img = img.transpose(method=Image.FLIP_LEFT_RIGHT)\n",
        "  imge.save(dest_path+'/'+ image_file_name +'_Horizontal' +'.jpg')"
      ],
      "metadata": {
        "id": "f9qO-nslXKTh"
      },
      "execution_count": null,
      "outputs": []
    }
  ]
}